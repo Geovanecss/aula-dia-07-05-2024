{
 "cells": [
  {
   "cell_type": "code",
   "execution_count": null,
   "metadata": {},
   "outputs": [],
   "source": [
    "for elemento in range(len(\"STRING\")):\n",
    "    print('Estamos no elemento:',elemento)"
   ]
  },
  {
   "cell_type": "code",
   "execution_count": null,
   "metadata": {},
   "outputs": [],
   "source": [
    "elemento = 0\n",
    "\n",
    "while elemento <= len('1,2,3,4,5,6'):\n",
    "    print('Estamos no elemento:',elemento)\n",
    "    elemento += 1"
   ]
  },
  {
   "cell_type": "code",
   "execution_count": null,
   "metadata": {},
   "outputs": [],
   "source": [
    "s = 'STRING'\n",
    "indice = 0\n",
    "\n",
    "while indice in range (len (s)):\n",
    "    print('Estamos no elemento:', s[indice])\n",
    "    indice += 1"
   ]
  },
  {
   "cell_type": "code",
   "execution_count": null,
   "metadata": {},
   "outputs": [],
   "source": [
    "palavra = 'tranquilo'\n",
    "for indice,letra in enumerate(palavra):\n",
    "    print(letra,indice)"
   ]
  },
  {
   "cell_type": "code",
   "execution_count": null,
   "metadata": {},
   "outputs": [],
   "source": [
    "lista=['eat','sleep','repeat']\n",
    "palavra = 'geek'\n",
    "objeto1= enumerate(lista)\n",
    "objeto2= enumerate(palavra) \n",
    "\n",
    "print(\"tipo: \", type(objeto1))\n",
    "print(list(enumerate(lista)))\n",
    "\n",
    "\n",
    "print(\"tipo: \", type(objeto2))\n",
    "print(list(enumerate(palavra)))"
   ]
  },
  {
   "cell_type": "code",
   "execution_count": null,
   "metadata": {},
   "outputs": [],
   "source": [
    "print(list(enumerate(palavra,2)))"
   ]
  },
  {
   "cell_type": "code",
   "execution_count": null,
   "metadata": {},
   "outputs": [],
   "source": [
    "s = \"viva o python\"\n",
    "for ch in s:\n",
    "    print(\"oi\")"
   ]
  },
  {
   "cell_type": "code",
   "execution_count": 94,
   "metadata": {},
   "outputs": [
    {
     "name": "stdout",
     "output_type": "stream",
     "text": [
      "oi\n",
      "oi\n",
      "oi\n",
      "oi\n",
      "oi\n"
     ]
    }
   ],
   "source": [
    "s = \"viva o python\"\n",
    "for ch in s[3:8]:\n",
    "    print(\"oi\")"
   ]
  },
  {
   "cell_type": "code",
   "execution_count": 5,
   "metadata": {},
   "outputs": [
    {
     "name": "stdout",
     "output_type": "stream",
     "text": [
      "A quantidade de pares é: 0\n",
      "A quantidade de ímpares é: 10\n"
     ]
    }
   ],
   "source": [
    "par = 0\n",
    "impar = 0\n",
    "\n",
    "\n",
    "for x in range(10):\n",
    "    numero = int(input(\"Digite 10 números\"))\n",
    "    \n",
    "    if numero % 2 == 0:\n",
    "        par+=1\n",
    "    else:\n",
    "        impar+=1\n",
    "    \n",
    "print(\"A quantidade de pares é:\",par)\n",
    "print(\"A quantidade de ímpares é:\",impar)"
   ]
  }
 ],
 "metadata": {
  "kernelspec": {
   "display_name": "Python 3",
   "language": "python",
   "name": "python3"
  },
  "language_info": {
   "codemirror_mode": {
    "name": "ipython",
    "version": 3
   },
   "file_extension": ".py",
   "mimetype": "text/x-python",
   "name": "python",
   "nbconvert_exporter": "python",
   "pygments_lexer": "ipython3",
   "version": "3.11.9"
  }
 },
 "nbformat": 4,
 "nbformat_minor": 2
}
